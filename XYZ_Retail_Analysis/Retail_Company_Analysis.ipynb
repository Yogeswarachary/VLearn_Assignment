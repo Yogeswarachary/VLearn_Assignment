{
 "cells": [
  {
   "cell_type": "markdown",
   "id": "67ae38c9-1c92-4576-b933-ff5e42a2c15c",
   "metadata": {},
   "source": [
    "## TASK1: XYZ Retail wants to automate the process of calculating basic sales metrics\n",
    "- Instructions\n",
    "- Assign the number of units sold in two categories, `Category A` and `Category B`, to variables.\n",
    "- Calculate the total units sold, the difference between the categories, and the ratio of units sold.\n",
    "- Print these results clearly for the management team"
   ]
  },
  {
   "cell_type": "code",
   "execution_count": 60,
   "id": "342f0103-0fbe-4c46-9e71-e85033b87ecb",
   "metadata": {},
   "outputs": [
    {
     "name": "stdout",
     "output_type": "stream",
     "text": [
      "Sales Data Summary:\n",
      "\n",
      "Total Units sold: 1,000\n",
      "Sales Difference Between two categories: 400 units\n",
      "The Ratio of Category A to Category B is: 7: 3\n"
     ]
    }
   ],
   "source": [
    "# Importing required modules\n",
    "from fractions import Fraction\n",
    "\n",
    "# Assigning the sales values\n",
    "category_A_sold_units = 700\n",
    "category_B_sold_units = 300\n",
    "\n",
    "# Calculating the total units sold\n",
    "total_units_sold = category_A_sold_units + category_B_sold_units\n",
    "\n",
    "# Calculating the Difference in two category units sold\n",
    "difference_in_two_categories = abs(category_A_sold_units - category_B_sold_units)\n",
    "\n",
    "# Calculating the ratio of units sold \n",
    "ratio = Fraction(category_A_sold_units, category_B_sold_units)\n",
    "\n",
    "# Printing the results\n",
    "print(\"Sales Data Summary:\\n\")\n",
    "print(f\"Total Units sold: {total_units_sold:,}\")\n",
    "print(f\"Sales Difference Between two categories: {difference_in_two_categories:,} units\")\n",
    "print(f\"The Ratio of Category A to Category B is: {ratio.numerator}: {ratio.denominator}\")"
   ]
  },
  {
   "cell_type": "markdown",
   "id": "6b208b23-48e3-47c5-93bc-46623b125dda",
   "metadata": {},
   "source": [
    "## Task2: Understanding the age distribution of customers is crucial for marketing strategies.\n",
    "- Store a customer's name and age.\n",
    "- Convert the age into a string and create a personalized marketing message like \"Dear John Doe, at 30, you’re eligible for our premium loyalty program.\""
   ]
  },
  {
   "cell_type": "code",
   "execution_count": 86,
   "id": "5a1b4dad-1bb8-4b12-9a41-7006b92770cf",
   "metadata": {},
   "outputs": [
    {
     "name": "stdin",
     "output_type": "stream",
     "text": [
      "Enter the Customer Name:  Yogesh\n",
      "Enter the Customer Age:  28\n"
     ]
    },
    {
     "name": "stdout",
     "output_type": "stream",
     "text": [
      "Dear Yogesh, at 28, you are not eligible for premium loyality program\n"
     ]
    }
   ],
   "source": [
    "# Assigning customer name and age values\n",
    "customer_name = input(\"Enter the Customer Name: \")\n",
    "customer_age = int(input(\"Enter the Customer Age: \"))\n",
    "\n",
    "# Applying age criteria and printing output\n",
    "if customer_age >= 30:\n",
    "    print(f\"Dear {customer_name}, at {customer_age}, you are eligible for our premium loyality program\")\n",
    "else:\n",
    "    print(f\"Dear {customer_name}, at {customer_age}, you are not eligible for premium loyality program\")"
   ]
  },
  {
   "cell_type": "markdown",
   "id": "dd32aa99-dd39-4834-a888-9f8a394983c5",
   "metadata": {},
   "source": [
    "## Task3: Efficient management of the product list is essential for inventory control.\n",
    "- Given a list of product prices, extract the highest and lowest prices.\n",
    "- Create a new list with the mid-range products.\n",
    "- Add a new premium product price to the list and print the updated list for the inventory team."
   ]
  },
  {
   "cell_type": "code",
   "execution_count": 120,
   "id": "4d9a915d-895a-43d7-86c5-c977705aad7d",
   "metadata": {},
   "outputs": [
    {
     "name": "stdout",
     "output_type": "stream",
     "text": [
      "Highest Price: 300\n",
      "Lowest Price: 20\n",
      "Mid-Range Products: [30, 50, 40, 120, 90, 80, 110, 140]\n",
      "Updated Product List with Premium Price: [30, 50, 40, 120, 90, 20, 80, 110, 140, 300]\n"
     ]
    }
   ],
   "source": [
    "# Storing Product Prices in the list\n",
    "product_price_list = [30, 50, 40, 120, 90, 20, 80, 110, 140]\n",
    "\n",
    "# Adding a New Premium product to the Product Price List\n",
    "product_price_list.append(300)\n",
    "\n",
    "# Maximum product price from Product Price List\n",
    "maximum_product_price = max(product_price_list)\n",
    "\n",
    "# Minimum product price from Product Price List\n",
    "minimum_product_price = min(product_price_list)\n",
    "\n",
    "# Get mid range products from the Product Price List\n",
    "mid_range_products = [price for price in product_price_list if price not in (maximum_product_price, minimum_product_price)]\n",
    "\n",
    "# Printing Results\n",
    "print(f\"Highest Price: {maximum_product_price}\")\n",
    "print(f\"Lowest Price: {minimum_product_price}\")\n",
    "print(f\"Mid-Range Products: {mid_range_products}\")\n",
    "print(f\"Updated Product List with Premium Price: {product_price_list}\")"
   ]
  },
  {
   "cell_type": "markdown",
   "id": "24e49a88-0303-436d-8c9f-5fc97952ba08",
   "metadata": {},
   "source": [
    "## Task4: Quick access to product details is important for customer service representatives.\n",
    "- Create a dictionary storing key information about a product (e.g., `product_name`, `SKU`, `price`, `category`).\n",
    "- Print the product name and SKU when queried by a customer service representative."
   ]
  },
  {
   "cell_type": "code",
   "execution_count": 29,
   "id": "da9778bc-28e9-48b2-9564-f96a66c790fe",
   "metadata": {},
   "outputs": [
    {
     "name": "stdout",
     "output_type": "stream",
     "text": [
      "{'product_name': 'Red MI 14 Mobile', 'SKU': 'M-0840', 'price': '18000', 'category': 'Mobiles', 'storage': '8GB RAM/128 GB ROM'} \n",
      "\n",
      "Required output: \t\n",
      "Product Name: Red MI 14 Mobile\t Product SKU: M-0840\n"
     ]
    }
   ],
   "source": [
    "# Assigning Product Details Dictionary\n",
    "product_info = {\"product_name\":\"Red MI 14 Mobile\", \"SKU\":\"M-0840\", \"price\": \"18000\", \"category\":\"Mobiles\", \"storage\":\"8GB RAM/128 GB ROM\"}\n",
    "\n",
    "# Printing the Product Info Dictionary\n",
    "#print(product_info,\"\\n\")\n",
    "\n",
    "# Query by the customer service representative\n",
    "print(\"Required output: \\t\")\n",
    "print(f\"Product Name: {product_info[\"product_name\"]}\\t Product SKU: {product_info[\"SKU\"]}\")"
   ]
  },
  {
   "cell_type": "markdown",
   "id": "c4bab15c-8bf4-47f9-b89b-84dda2119a8e",
   "metadata": {},
   "source": [
    "## Task5: Ensuring that stock levels are maintained is critical to avoid stockouts.\n",
    "- Write the code that takes the stock level as input.\n",
    "- If stock is below a certain threshold, print a \"Reorder Now\" alert. If stock is above the threshold, print \"Stock is sufficient.\""
   ]
  },
  {
   "cell_type": "code",
   "execution_count": 135,
   "id": "6eae6834-1799-4193-a4b5-a21b83e519a2",
   "metadata": {},
   "outputs": [
    {
     "name": "stdin",
     "output_type": "stream",
     "text": [
      "Enter stock level:  30\n"
     ]
    },
    {
     "name": "stdout",
     "output_type": "stream",
     "text": [
      "Reorder Now\n"
     ]
    }
   ],
   "source": [
    "# Request user to enter Stock Level\n",
    "stock_level = int(input(\"Enter stock level: \"))\n",
    "\n",
    "# Check Threshold of stock level\n",
    "if stock_level < 40:\n",
    "    print(\"Reorder Now\")\n",
    "else:\n",
    "    print(\"Stock is Sufficient\")"
   ]
  },
  {
   "cell_type": "markdown",
   "id": "202d1f55-f8d9-4c58-aa33-a25799c83b3f",
   "metadata": {},
   "source": [
    "## Task6: Formatting the sales data for management reports is crucial.\n",
    "- Given a list of products sold, print each product name in uppercase for better visibility in reports.\n",
    "- Implement both a `for` loop and a `while` loop for this task to ensure code flexibility."
   ]
  },
  {
   "cell_type": "code",
   "execution_count": 137,
   "id": "870fe46c-a6bc-4ab7-9092-69e85ecc69a5",
   "metadata": {},
   "outputs": [
    {
     "name": "stdout",
     "output_type": "stream",
     "text": [
      "By using For Loop, Printing the Products Name's in Upper Case: \n",
      "\n",
      "PENCILS\n",
      "PENS\n",
      "MARKER\n",
      "BOOKS\n",
      "GEOMETRY_BOX\n",
      "RULER\n",
      "_____________________________________________________________________\n",
      "By using While Loop, Printing the Products Name's in Upper Case: \n",
      "\n",
      "PENCILS\n",
      "PENS\n",
      "MARKER\n",
      "BOOKS\n",
      "GEOMETRY_BOX\n",
      "RULER\n"
     ]
    }
   ],
   "source": [
    "# Assigning Products to list\n",
    "products_sold = ['pencils','pens','marker','books','geometry_box','ruler']\n",
    "\n",
    "# Printing Product Name's in Upper Case Using For loop\n",
    "print(\"By using For Loop, Printing the Products Name's in Upper Case: \\n\")\n",
    "\n",
    "for index in products_sold:\n",
    "    print(index.upper()) #the upper() Coverts given data into Upper case\n",
    "\n",
    "# Printing line in between two Outputs for Better Readability\n",
    "print(\"_____________________________________________________________________\")\n",
    "\n",
    "# Printing product Name's in Upper_Case Using While loop\n",
    "print(\"By using While Loop, Printing the Products Name's in Upper Case: \\n\")\n",
    "\n",
    "index = 0\n",
    "\n",
    "while index < len(products_sold):\n",
    "    print(products_sold[index].upper())\n",
    "    index = index+1"
   ]
  },
  {
   "cell_type": "markdown",
   "id": "5822b264-148d-439a-899e-90bcdc46b38e",
   "metadata": {},
   "source": [
    "## Task7: Accurate area calculations are needed to plan new store layouts.\n",
    "- Create a function that calculates the area of a section of the store based on length and width.\n",
    "- Use this function to calculate and print the area of several store sections."
   ]
  },
  {
   "cell_type": "code",
   "execution_count": 109,
   "id": "0b4a5744-f1c3-4c8f-8ce3-7a4c5fcc3299",
   "metadata": {},
   "outputs": [
    {
     "name": "stdin",
     "output_type": "stream",
     "text": [
      "Enter the Length of {name_of_section} is:  10\n",
      "Enter the Width of {name_of_section} is:  10\n"
     ]
    },
    {
     "name": "stdout",
     "output_type": "stream",
     "text": [
      "Area of Stock_room is: 100 Feet\n",
      "\n"
     ]
    },
    {
     "name": "stdin",
     "output_type": "stream",
     "text": [
      "Enter the Length of {name_of_section} is:  10\n",
      "Enter the Width of {name_of_section} is:  10\n"
     ]
    },
    {
     "name": "stdout",
     "output_type": "stream",
     "text": [
      "Area of Waiting_Room is: 100 Feet\n",
      "\n"
     ]
    },
    {
     "name": "stdin",
     "output_type": "stream",
     "text": [
      "Enter the Length of {name_of_section} is:  10\n",
      "Enter the Width of {name_of_section} is:  10\n"
     ]
    },
    {
     "name": "stdout",
     "output_type": "stream",
     "text": [
      "Area of Entrance_of_store is: 100 Feet\n",
      "\n"
     ]
    },
    {
     "name": "stdin",
     "output_type": "stream",
     "text": [
      "Enter the Length of {name_of_section} is:  10\n",
      "Enter the Width of {name_of_section} is:  10\n"
     ]
    },
    {
     "name": "stdout",
     "output_type": "stream",
     "text": [
      "Area of Billing_area is: 100 Feet\n",
      "\n",
      "Summary of the Store Section areas: \n",
      "Area of Stock_room is: 100 Feet\n",
      "Area of Waiting_Room is: 100 Feet\n",
      "Area of Entrance_of_store is: 100 Feet\n",
      "Area of Billing_area is: 100 Feet\n"
     ]
    }
   ],
   "source": [
    "# Creating a function\n",
    "def area_calculation_of_store(name_of_section):\n",
    "\n",
    "    # Ask user to enter the Length and Width values\n",
    "    length_of_store = int(input(\"Enter the Length of {name_of_section} is: \"))\n",
    "    width_of_store = int(input(\"Enter the Width of {name_of_section} is: \"))\n",
    "    \n",
    "    # Calcu40late Area of Store\n",
    "    area_of_store = length_of_store * width_of_store\n",
    "\n",
    "    # Print Area with Section\n",
    "    print(f\"Area of {name_of_section} is: {area_of_store} Feet\\n\")\n",
    "    \n",
    "    #Return Area\n",
    "    return(area_of_store)\n",
    "\n",
    "# List of Store sections to calculate area for\n",
    "section_of_store = [\"Stock_room\", \"Waiting_Room\", \"Entrance_of_store\", \"Billing_area\"]\n",
    "\n",
    "# Dictionary of Storing Areas\n",
    "multiple_areas = {}\n",
    "\n",
    "# Using for loop calculating each section area\n",
    "for section in section_of_store:\n",
    "    multiple_areas[section] = area_calculation_of_store(section)\n",
    "# output = [section for section in section_of_store \n",
    "\n",
    "# print all calculated areas\n",
    "print(\"Summary of the Store Section areas: \")\n",
    "for section, area in multiple_areas.items():\n",
    "    print(f\"Area of {section} is: {area} Feet\")"
   ]
  },
  {
   "cell_type": "markdown",
   "id": "f5121b48-0efa-496e-9402-ba8ae8e1f8e0",
   "metadata": {},
   "source": [
    "## Task8: Analyzing customer feedback is vital to improving service.\n",
    "- Write the code to count the number of vowels in a customer feedback message.\n",
    "- Also, reverse the feedback message for a unique data presentation in reports."
   ]
  },
  {
   "cell_type": "code",
   "execution_count": 144,
   "id": "6a75f475-7353-49de-aacd-8870db318d14",
   "metadata": {},
   "outputs": [
    {
     "name": "stdout",
     "output_type": "stream",
     "text": [
      "\n",
      "Customer Feedback Analysis: \n",
      "\n"
     ]
    },
    {
     "name": "stdin",
     "output_type": "stream",
     "text": [
      "Please enter your Feedback about our service:  Hello\n"
     ]
    },
    {
     "name": "stdout",
     "output_type": "stream",
     "text": [
      "The number of Vowels:  2\n",
      "\n",
      "Printing the given Feedback Message into reverse:  olleH\n"
     ]
    }
   ],
   "source": [
    "# Define function\n",
    "def count_vowels(feedback_message):\n",
    "\n",
    "    #Assigning vowels to variable\n",
    "    vowels = 'AEIOUaeiou'\n",
    "    count_of_vowels = sum(1 for character in feedback_message if character in vowels)\n",
    "    return count_of_vowels\n",
    "\n",
    "print(\"\\nCustomer Feedback Analysis: \\n\")\n",
    "\n",
    "# Asking user to enter Feed back\n",
    "feedback_message = input(\"Please enter your Feedback about our service: \")\n",
    "print(\"The number of Vowels: \", count_vowels(feedback_message))\n",
    "\n",
    "# Reversing the given feedback message\n",
    "reverse_feedback = feedback_message[::-1]\n",
    "print(\"\\nPrinting the given Feedback Message into reverse: \", reverse_feedback)"
   ]
  },
  {
   "cell_type": "markdown",
   "id": "a6c27726-b354-4e2f-9a00-d67814be317f",
   "metadata": {},
   "source": [
    "## Task9:  Filtering product prices helps in creating targeted discounts.\n",
    "- Use list comprehension to filter out products priced below a certain threshold from the product list.\n",
    "- Print the list of eligible products for a discount campaign."
   ]
  },
  {
   "cell_type": "code",
   "execution_count": 162,
   "id": "77084864-1f64-41c5-8845-bafed6bc01c7",
   "metadata": {},
   "outputs": [
    {
     "name": "stdin",
     "output_type": "stream",
     "text": [
      "\n",
      "Please enter the Threshold value:  60\n"
     ]
    },
    {
     "name": "stdout",
     "output_type": "stream",
     "text": [
      "Products are Eligible for the discounted Campaign: [50, 60, 45]\n"
     ]
    }
   ],
   "source": [
    "# Assiging the values to the Product Price list\n",
    "product_price_list = [50, 60, 70, 110, 120, 140, 170, 200, 210, 130, 80, 45]\n",
    "\n",
    "# Asking user to enter the Threshold value\n",
    "threshold_value = int(input(\"\\nPlease enter the Threshold value: \"))\n",
    "\n",
    "# Implementing the list comprehension\n",
    "lowest_price_products = [low_price for low_price in product_price_list if low_price <= threshold_value]\n",
    "print(f\"Products are Eligible for the discounted Campaign: {lowest_price_products}\")"
   ]
  },
  {
   "cell_type": "markdown",
   "id": "b8e3593b-f670-4687-9fed-bba38d9f02c8",
   "metadata": {},
   "source": [
    "## Task10: Proper management of sales log files is necessary for compliance and audit purposes.\n",
    "- Create a text file named `sales_log.txt` to store daily sales summaries.\n",
    "- Write two lines summarizing the daily sales performance.\n",
    "- Read and print the content of the file to ensure data integrity."
   ]
  },
  {
   "cell_type": "code",
   "execution_count": 172,
   "id": "7b1889d2-df4a-41d4-868a-b82f438da29e",
   "metadata": {},
   "outputs": [
    {
     "name": "stdout",
     "output_type": "stream",
     "text": [
      "Printing the Content of 'Sales_log.txt' \n",
      "\n",
      "Total sales today is: $20,000\n",
      "Number of Transactions is: 72\n"
     ]
    }
   ],
   "source": [
    "# Create the file and write text in that\n",
    "with open(\"sales_log.txt\", \"w\")as file:\n",
    "\n",
    "    # Storing summaries about the Sales\n",
    "    file.write(\"Total sales today is: $20,000\")\n",
    "    file.write(\"\\nNumber of Transactions is: 72\")\n",
    "\n",
    "# Read and print the File content\n",
    "with open(\"sales_log.txt\", \"r\")as file:\n",
    "    file_data = file.read()\n",
    "\n",
    "# Printing the Content\n",
    "print(\"Printing the Content of 'Sales_log.txt' \")\n",
    "print(f\"\\n{file_data}\")"
   ]
  },
  {
   "cell_type": "markdown",
   "id": "e36382f2-90d9-4c36-97dd-28062cb0f8a2",
   "metadata": {},
   "source": [
    "## Task11: Calculate the average daily sales for the past week.\n",
    "- Given a list of sales figures for the last 7 days, calculate the average sales.\n",
    "- Print the average sales to help the finance team understand the weekly performance."
   ]
  },
  {
   "cell_type": "code",
   "execution_count": 204,
   "id": "588471aa-a466-41ea-a8c6-4982ba0d09e0",
   "metadata": {},
   "outputs": [
    {
     "name": "stdout",
     "output_type": "stream",
     "text": [
      "\n",
      "Total sales of 7 days $117000.00\n",
      "Average Daily Sales for the Past Week: $16714.29\n"
     ]
    }
   ],
   "source": [
    "# Assigning the Daily sales\n",
    "daily_sales = [8000, 20000, 21000, 19000, 12000, 9000, 28000]\n",
    "\n",
    "# Average of daily_sales\n",
    "average_of_daily_sales = round(sum(daily_sales)/len(daily_sales), 2)\n",
    "\n",
    "# Printing the Average of Daily Sales value as output\n",
    "print(f\"\\nTotal sales of 7 days ${sum(daily_sales)}.00\")\n",
    "print(f\"Average Daily Sales for the Past Week: ${average_of_daily_sales}\")"
   ]
  },
  {
   "cell_type": "markdown",
   "id": "1dc0bdfe-5930-4cb8-99f0-1603654d87c4",
   "metadata": {},
   "source": [
    "## Task12: Categorize customers based on their total spending.\n",
    "- Create a list of customer spending amounts.\n",
    "- Use a loop to categorize customers as \"Low\", \"Medium\", or \"High\" spenders based on their spending amount.\n",
    "- Print the categorized results to assist in targeted marketing."
   ]
  },
  {
   "cell_type": "code",
   "execution_count": 3,
   "id": "4e577594-f31b-4550-ae9d-8ae4e587ea0e",
   "metadata": {},
   "outputs": [
    {
     "name": "stdout",
     "output_type": "stream",
     "text": [
      "Customer Spending Categories: \n",
      "Customer 1: Spending = $1000-> Category: Low\n",
      "Customer 1: Spending = $800-> Category: Low\n",
      "Customer 1: Spending = $2400-> Category: Medium\n",
      "Customer 1: Spending = $5000-> Category: High\n",
      "Customer 1: Spending = $10000-> Category: High\n",
      "Customer 1: Spending = $1700-> Category: Low\n",
      "Customer 1: Spending = $3600-> Category: Medium\n"
     ]
    }
   ],
   "source": [
    "# Assigning Customer Spending amounts to the list\n",
    "customer_spending_amounts = [1000, 800, 2400, 5000, 10000, 1700, 3600]\n",
    "\n",
    "# Creating an Empty Dictionary to store the Category data\n",
    "categorys = {}\n",
    "\n",
    "# Using a loop to categorize the customers\n",
    "for price in customer_spending_amounts:\n",
    "    \n",
    "    if price < 2000:\n",
    "        Category = \"Low\"\n",
    "\n",
    "    elif price < 5000:\n",
    "        Category = \"Medium\"\n",
    "\n",
    "    else: \n",
    "        Category = \"High\"\n",
    "\n",
    "    categorys[price] = Category\n",
    "\n",
    "# printing the Desired Outputs\n",
    "print(\"Customer Spending Categories: \")\n",
    "for price, category in categorys.items():\n",
    "    print(f\"Customer 1: Spending = ${price}-> Category: {category}\")"
   ]
  },
  {
   "cell_type": "markdown",
   "id": "da35cb77-ee0c-45b0-bfe1-3a677d367436",
   "metadata": {},
   "source": [
    "## Task13: Automate the calculation of discounts for a promotional campaign.\n",
    "- Write a code that calculates the final price after applying a discount percentage to a product’s original price.\n",
    "- Test this function on a list of products with different discounts and print the final prices."
   ]
  },
  {
   "cell_type": "code",
   "execution_count": 128,
   "id": "7395b2ec-ae73-4099-9e52-2240ca067288",
   "metadata": {},
   "outputs": [
    {
     "name": "stdout",
     "output_type": "stream",
     "text": [
      "\n",
      "Final Prices After Discounts: \n",
      "Product Name is Cycle: Original Price = $6000, Discount = 15%, Final Price = 5100.0 \n",
      "Product Name is Samsung-Mobile: Original Price = $16000, Discount = 18%, Final Price = 13120.0 \n",
      "Product Name is Headphones: Original Price = $3800, Discount = 11%, Final Price = 3382.0 \n",
      "Product Name is Puma-Shoes: Original Price = $3000, Discount = 28%, Final Price = 2160.0 \n",
      "Product Name is Laptop-Charger: Original Price = $4500, Discount = 9%, Final Price = 4095.0 \n",
      "Product Name is Samsung_Tab: Original Price = $18000, Discount = 22%, Final Price = 14040.0 \n"
     ]
    }
   ],
   "source": [
    "# Assigning Product Prices\n",
    "product_price_list = [{\"product_name\": \"Cycle\", \"original_price\": 6000, \"discount_percentage\": 15},\n",
    "                      {\"product_name\": \"Samsung-Mobile\", \"original_price\": 16000, \"discount_percentage\": 18},\n",
    "                      {\"product_name\": \"Headphones\", \"original_price\": 3800, \"discount_percentage\": 11},\n",
    "                      {\"product_name\": \"Puma-Shoes\", \"original_price\": 3000, \"discount_percentage\": 28},\n",
    "                      {\"product_name\": \"Laptop-Charger\", \"original_price\": 4500, \"discount_percentage\": 9},\n",
    "                      {\"product_name\": \"Samsung_Tab\", \"original_price\": 18000, \"discount_percentage\": 22}]\n",
    "\n",
    "# Function Defining\n",
    "def final_price_after_discount(price_list):\n",
    "    for product_price in price_list:\n",
    "        discount_price = (product_price[\"original_price\"] * product_price[\"discount_percentage\"])/100\n",
    "        product_price[\"discount_price\"] = round(product_price[\"original_price\"] - discount_price, 2)\n",
    "    return price_list\n",
    "\n",
    "# Call the Function\n",
    "updated_product_price = final_price_after_discount(product_price_list)\n",
    "\n",
    "# Priting the Output values\n",
    "print(\"\\nFinal Prices After Discounts: \")\n",
    "for product_price in updated_product_price:\n",
    "    print(f\"Product Name is {product_price['product_name']}: Original Price = ${product_price['original_price']}, Discount = {product_price['discount_percentage']}%, Final Price = {product_price['discount_price']} \")\n",
    "        "
   ]
  },
  {
   "cell_type": "markdown",
   "id": "c3e647a0-7bfe-4c1a-a76c-cae631d1d728",
   "metadata": {},
   "source": [
    "## Task14: Basic sentiment analysis of customer feedback.\n",
    "- Write the Python code that checks if certain positive or negative words (e.g., \"good\", \"bad\", \"happy\", \"disappointed\") are present in customer feedback.\n",
    "- Print \"Positive\" or \"Negative\" based on the words found in the feedback."
   ]
  },
  {
   "cell_type": "code",
   "execution_count": 51,
   "id": "426995fb-a8a1-45b3-8420-98fb0a2d6b59",
   "metadata": {},
   "outputs": [
    {
     "name": "stdin",
     "output_type": "stream",
     "text": [
      "Please enter your review about our service:  Hello this is very bad service\n"
     ]
    },
    {
     "name": "stdout",
     "output_type": "stream",
     "text": [
      "Customer Feeback Sentiment: negitive😢\n"
     ]
    }
   ],
   "source": [
    "# Asking user to Enter the Review\n",
    "user_review = input(\"Please enter your review about our service: \").lower()\n",
    "\n",
    "# Create a list which capture Positive and Negitive words\n",
    "positive_words_in_user_review = [\"good\",\"great\",\"excellent\",\"super\",\"extraordinary\",\"happy\"]\n",
    "negitive_words_in_user_review = [\"poor\",\"bad\",\"worst\",\"terrible\",\"disappointed\",\"waste\",\"useless\"]\n",
    "\n",
    "# Check User_review have Positive or Negitive words\n",
    "positive_words = sum(words in user_review for words in positive_words_in_user_review)\n",
    "negitive_words = sum(words in user_review for words in negitive_words_in_user_review)\n",
    "\n",
    "# Sentiment analysis\n",
    "if positive_words and not negitive_words:\n",
    "    sentiment = \"positive 😊\"\n",
    "elif negitive_words and not positive_words:\n",
    "    sentiment = \"negitive😢\"\n",
    "else:\n",
    "    sentiment = \"Neutral ☹️\"\n",
    "\n",
    "# Printing the output\n",
    "print(f\"Customer Feeback Sentiment: {sentiment}\")"
   ]
  },
  {
   "cell_type": "markdown",
   "id": "97009bb8-cb03-44c9-ba81-45d81cb192c0",
   "metadata": {},
   "source": [
    "## Task15: Calculate the salary increment for employees based on their performance rating.\n",
    "- Create a dictionary that stores employee names and their performance ratings.\n",
    "-Write the code that applies a different increment percentage based on the rating.\n",
    "- Print the updated salary for each employee."
   ]
  },
  {
   "cell_type": "code",
   "execution_count": 35,
   "id": "0fb40bb1-6583-45b4-a3eb-cde700381050",
   "metadata": {},
   "outputs": [
    {
     "name": "stdout",
     "output_type": "stream",
     "text": [
      "\n",
      "Updated Employee Salaries: \n",
      "Karthik: Old Salary = $20000, Rating = Good, New Salary = $24000.0\n",
      "Vamshi: Old Salary = $18000, Rating = Average, New Salary = $20160.0\n",
      "Kaasi: Old Salary = $32000, Rating = Outstanding, New Salary = $41600.0\n",
      "Sameer: Old Salary = $25000, Rating = Good, New Salary = $30000.0\n",
      "Jeevan: Old Salary = $20000, Rating = Bad, New Salary = $21000.0\n"
     ]
    }
   ],
   "source": [
    "# Assigning the Employee names and Performence Ratings\n",
    "employees = {\"Karthik\": {\"salary\": 20000, \"rating\": \"Good\"},\n",
    "             \"Vamshi\": {\"salary\": 18000, \"rating\": \"Average\"},\n",
    "             \"Kaasi\": {\"salary\": 32000, \"rating\": \"Outstanding\"},\n",
    "             \"Sameer\": {\"salary\": 25000, \"rating\": \"Good\"},\n",
    "             \"Jeevan\": {\"salary\": 20000, \"rating\": \"Bad\"}}\n",
    "\n",
    "# Increment percentage based on Performence\n",
    "incremenent_percentage = {\"Outstanding\": 0.30, \"Good\": 0.20, \"Average\": 0.12, \"Bad\": 0.05}\n",
    "\n",
    "# Updated Salaries after calculation\n",
    "for employee, employee_info in employees.items():\n",
    "    rating = employee_info[\"rating\"]\n",
    "    increase = incremenent_percentage.get(rating, 0)\n",
    "    updated_salary = round(employee_info[\"salary\"] * (1 + increase), 2)\n",
    "\n",
    "    # Save the new salary values\n",
    "    employee_info[\"updated_salary\"] = updated_salary\n",
    "\n",
    "# print updated salaries\n",
    "print(\"\\nUpdated Employee Salaries: \")\n",
    "for employee, employee_info in employees.items():\n",
    "    print(f\"{employee}: Old Salary = ${employee_info['salary']}, Rating = {employee_info['rating']}, New Salary = ${employee_info['updated_salary']}\")\n"
   ]
  },
  {
   "cell_type": "markdown",
   "id": "a906240e-941f-43f2-824f-d8fd12bc2cd8",
   "metadata": {},
   "source": [
    "## Task16: Generate a simple text-based monthly sales report.\n",
    "- Create a list of daily sales figures for a month.\n",
    "- Calculate the total and average sales for the month.\n",
    "- Write these statistics to a text file named monthly_report.txt."
   ]
  },
  {
   "cell_type": "code",
   "execution_count": 49,
   "id": "d62517de-8290-490f-b2e5-9f7789fd31e2",
   "metadata": {},
   "outputs": [
    {
     "name": "stdout",
     "output_type": "stream",
     "text": [
      "Output was saved successfully in Text file 😊\n"
     ]
    }
   ],
   "source": [
    "# List holding a 30 days sales\n",
    "daily_sales_list = [20000, 18000, 15000, 24000, 12000, 14400, 20500, 28000, 30000, 27500,\n",
    "              32000, 18000, 17000, 31000, 8000, 10500, 13800, 24500, 18500, 15000,\n",
    "              28000, 6000, 18000, 21000, 17500, 19000, 24500, 29000, 30000, 14500]\n",
    "\n",
    "# Total of Daily Sales\n",
    "total_of_daily_sales = sum(daily_sales_list)\n",
    "\n",
    "# Daily Average sales\n",
    "average_sales = round(total_of_daily_sales / len(daily_sales_list),2)\n",
    "\n",
    "# Save these statistics into one Text file\n",
    "with open (\"monthly_report.txt\", \"w\") as file:\n",
    "    file.write(\"Monthly Sales Report\")\n",
    "    file.write(\"--------------------\")\n",
    "    file.write(f\"Total Sales are: ${total_of_daily_sales}\")\n",
    "    file.write(f\"Daily Average Sales is: ${average_sales}\")\n",
    "\n",
    "print(\"Output was saved successfully in Text file😊\")"
   ]
  },
  {
   "cell_type": "markdown",
   "id": "85dbb305-7513-4b51-8b9b-98105567809f",
   "metadata": {},
   "source": [
    "## Task17: Determine which products need replenishment based on sales data.\n",
    "- Given a list of products and their current stock levels, compare these against a predefined threshold.\n",
    "- Print a list of products that need to be reordered to maintain adequate stock levels."
   ]
  },
  {
   "cell_type": "code",
   "execution_count": 69,
   "id": "4d28b036-a39c-4db4-a251-8e1ad8196fe5",
   "metadata": {},
   "outputs": [
    {
     "name": "stdout",
     "output_type": "stream",
     "text": [
      "The Products needs to Replenishment\n",
      "product Mobiles\n",
      "product Sceen_guard\n",
      "product Type_C_cable\n"
     ]
    }
   ],
   "source": [
    "# Assigning Product Details\n",
    "product_names = [{\"Name_of_Product\": \"Mobiles\", \"stock\": 50},\n",
    "                 {\"Name_of_Product\": \"Charger\", \"stock\": 100},\n",
    "                 {\"Name_of_Product\": \"Mobile_case\", \"stock\": 200},\n",
    "                 {\"Name_of_Product\": \"Laptop_Charger\", \"stock\": 80},\n",
    "                 {\"Name_of_Product\": \"Sceen_guard\", \"stock\":40},\n",
    "                 {\"Name_of_Product\": \"Type_C_cable\", \"stock\": 74}]\n",
    "\n",
    "# Stock Threshold\n",
    "stock_threshold_value = 75\n",
    "\n",
    "# list for storing low stock quantity products\n",
    "lowest_stock_products = []\n",
    "\n",
    "# Checking the Stock Values\n",
    "for product in product_names:\n",
    "    if product[\"stock\"] <= stock_threshold_value :\n",
    "        lowest_stock_products.append(product[\"Name_of_Product\"])\n",
    "\n",
    "# Printing product name that are below threshold values\n",
    "if lowest_stock_products:\n",
    "    print(\"The Products needs to Replenishment\")\n",
    "    for product  in lowest_stock_products:\n",
    "        print(f\"product {product}\")"
   ]
  },
  {
   "cell_type": "markdown",
   "id": "d53f4e40-c9c2-4e19-bcf7-182a432e092e",
   "metadata": {},
   "source": [
    "## Task18: Create a utility to clean customer names for better data consistency.\n",
    "- Write the code that takes a list of customer names with extra spaces and inconsistent capitalization.\n",
    "- Clean the names by trimming spaces and standardizing the capitalization (e.g., \"JOHN DOE\" -> \"John Doe\").\n",
    "- Print the cleaned names for database entry."
   ]
  },
  {
   "cell_type": "code",
   "execution_count": 111,
   "id": "418745f9-6ef8-4ac5-8791-de7fbe024a3d",
   "metadata": {},
   "outputs": [
    {
     "name": "stdout",
     "output_type": "stream",
     "text": [
      "Cleaned Customer Names for Database Entry: \n",
      "Shiva Kumar\n",
      "Prakash\n",
      "Shekhar\n",
      "Paul\n",
      "Shankmukh\n",
      "Krishna\n",
      "Venkat\n"
     ]
    }
   ],
   "source": [
    "# Assigning the customer names list\n",
    "customer_names = [\"ShiVA KUMar!\", \"praK@aSh\", \"Shek*haR\", \"PAul\", \"ShankmuKH\", \"Kri@shNA\", \"Venk@@at\"]\n",
    "\n",
    "# Clean the Customer Names\n",
    "def clean_customer_names(names):\n",
    "    names = names.strip()\n",
    "    names = names.replace(\"_\", \" \").replace(\"-\",\" \")\n",
    "    names = \"\".join(char for char in names if char.isalpha() or char.isspace())\n",
    "    return \" \".join(names.split()).title()\n",
    "\n",
    "cleaned_names = [clean_customer_names(names) for names in customer_names]\n",
    "\n",
    "# Print Results\n",
    "print(\"Cleaned Customer Names for Database Entry: \")\n",
    "for names in cleaned_names:\n",
    "    print(names)"
   ]
  },
  {
   "cell_type": "markdown",
   "id": "44b12f00-87d2-43fb-be34-ee6d85dce349",
   "metadata": {},
   "source": [
    "## Task19: Implement a basic forecasting model for next month’s sales.\n",
    "- Based on the average sales of the last 3 months, predict next month’s sales using a simple average.\n",
    "- Print the forecasted sales figures for budget planning."
   ]
  },
  {
   "cell_type": "code",
   "execution_count": 119,
   "id": "ca7bfbf3-09c8-4058-adf5-9a1d4af55843",
   "metadata": {},
   "outputs": [
    {
     "name": "stdout",
     "output_type": "stream",
     "text": [
      "Forecasted Sales for Next Month: $133333.33\n"
     ]
    }
   ],
   "source": [
    "# Assigning the last 3 months sales\n",
    "last_three_months_sales = [100000, 170000, 130000]\n",
    "\n",
    "# Total of Last 3 months sales\n",
    "total_three_months_sales = sum(last_three_months_sales)\n",
    "\n",
    "# Average Sales of last 3 months\n",
    "average_of_last_three_months_sales = round(total_three_months_sales / len(last_three_months_sales), 2)\n",
    "\n",
    "# Printing the Results\n",
    "print(f\"Forecasted Sales for Next Month: ${average_of_last_three_months_sales}\")"
   ]
  },
  {
   "cell_type": "markdown",
   "id": "dfc78b0f-1281-4564-ba4b-696dd8d8b81f",
   "metadata": {},
   "source": [
    "## Task20: Calculate loyalty points for customers based on their purchases.\n",
    "- Write a code that assigns loyalty points to customers based on their total purchase amount.\n",
    "- Implement a tiered system where different spending levels earn different point multipliers.\n",
    "- Print the loyalty points for a list of customers."
   ]
  },
  {
   "cell_type": "code",
   "execution_count": 125,
   "id": "83287c4b-b6e1-4cfc-8e97-d525d5e70553",
   "metadata": {},
   "outputs": [
    {
     "name": "stdout",
     "output_type": "stream",
     "text": [
      "Customer Loyalty Points: \n",
      "Rakesh: $10000 Purchase, Loyality Points: 15000.00\n",
      "Vijay: $12000 Purchase, Loyality Points: 18000.00\n",
      "Saleem: $20000 Purchase, Loyality Points: 40000.00\n",
      "Paul: $32000 Purchase, Loyality Points: 80000.00\n",
      "Venkat: $7000 Purchase, Loyality Points: 7000.00\n",
      "Raghav: $18000 Purchase, Loyality Points: 27000.00\n",
      "Yogesh: $45000 Purchase, Loyality Points: 112500.00\n"
     ]
    }
   ],
   "source": [
    "# Assigning the Customer names with there spending Amount\n",
    "Customers_and_spendings = {\"Rakesh\": 10000,\n",
    "                           \"Vijay\": 12000,\n",
    "                           \"Saleem\": 20000,\n",
    "                           \"Paul\": 32000,\n",
    "                           \"Venkat\": 7000,\n",
    "                           \"Raghav\": 18000,\n",
    "                          \"Yogesh\": 45000}\n",
    "\n",
    "# Tiered System for Different Spending levels\n",
    "def calculate_the_loyality_points(price):\n",
    "    if price < 10000:\n",
    "        return price * 1\n",
    "    elif price < 20000:\n",
    "        return price * 1.5\n",
    "    elif price < 30000:\n",
    "        return price * 2\n",
    "    else:\n",
    "        return price * 2.5\n",
    "\n",
    "# Calculating the loyality points and Print Results\n",
    "print(\"Customer Loyalty Points: \")\n",
    "for customer, price in Customers_and_spendings.items():\n",
    "    points = calculate_the_loyality_points(price)\n",
    "    print(f\"{customer}: ${price} Purchase, Loyality Points: {points:.2f}\")"
   ]
  },
  {
   "cell_type": "code",
   "execution_count": null,
   "id": "ec4e4067-25bf-4d3d-8964-2c222330062e",
   "metadata": {},
   "outputs": [],
   "source": []
  }
 ],
 "metadata": {
  "kernelspec": {
   "display_name": "Python 3 (ipykernel)",
   "language": "python",
   "name": "python3"
  },
  "language_info": {
   "codemirror_mode": {
    "name": "ipython",
    "version": 3
   },
   "file_extension": ".py",
   "mimetype": "text/x-python",
   "name": "python",
   "nbconvert_exporter": "python",
   "pygments_lexer": "ipython3",
   "version": "3.12.7"
  }
 },
 "nbformat": 4,
 "nbformat_minor": 5
}
